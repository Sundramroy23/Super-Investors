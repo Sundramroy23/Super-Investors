{
 "cells": [
  {
   "cell_type": "code",
   "execution_count": null,
   "metadata": {},
   "outputs": [],
   "source": [
    "import requests\n",
    "from bs4 import BeautifulSoup\n",
    "import time\n",
    "import pandas as pd\n",
    "import numpy as np\n",
    "import string\n",
    "from tqdm import tqdm"
   ]
  },
  {
   "cell_type": "code",
   "execution_count": null,
   "metadata": {},
   "outputs": [],
   "source": [
    "headers = {\n",
    "    \"User-Agent\": \"Mozilla/5.0 (Windows NT 10.0; Win64; x64) AppleWebKit/537.36 (KHTML, like Gecko) Chrome/58.0.3029.110 Safari/537.3\"\n",
    "}\n",
    "def fetch_page(url , retries = 5):                                          #defining function for fetching url \n",
    "    delay = 1                                                               #delay to stop requests if server refuse connection\n",
    "    for _ in range(retries):\n",
    "        try:\n",
    "            response = requests.get(url , headers=headers ,timeout=10)\n",
    "            response.raise_for_status()                                     #if error in fetching page\n",
    "            return response.text                                            \n",
    "        except requests.exceptions.RequestException as e:\n",
    "            print(f\"Error {e} ..retrying in {delay}\")\n",
    "            time.sleep(delay)\n",
    "            delay*=2                                                        #exponential increase in delay\n",
    "    print(f\"Error fetching url after {retries} tries\")\n",
    "    return None\n",
    "    "
   ]
  },
  {
   "cell_type": "code",
   "execution_count": null,
   "metadata": {},
   "outputs": [],
   "source": [
    "url  = \"https://ticker.finology.in/investor\"\n",
    "html_content = fetch_page(url)\n",
    "soup = BeautifulSoup(html_content, \"html.parser\")                           #creating soup"
   ]
  },
  {
   "cell_type": "code",
   "execution_count": null,
   "metadata": {},
   "outputs": [],
   "source": [
    "investor_list = []\n",
    "for sp in soup.find_all(\"div\", class_=\"col-12 col-md-3\"):\n",
    "    try:\n",
    "        investor_name = sp.h4.text\n",
    "    except:\n",
    "        investor_name = np.nan                                              #in case of error in retrieving\n",
    "    \n",
    "    try:\n",
    "        investor_profile_link = \"https://ticker.finology.in\"+sp.a.get(\"href\")\n",
    "    except:\n",
    "        investor_profile_link = np.nan\n",
    "    investor_list.append([investor_name,investor_profile_link])\n",
    "    # print(investor_name,\"|--|\",investor_profile_link)\n",
    "    # break\n",
    "\n",
    "\n",
    "# for i in investor_list:\n",
    "#     print(i)\n",
    "\n",
    "df = pd.DataFrame(investor_list,columns=[\"Investor_Name\",\"Profile_link\"])     #creating datframe for storage"
   ]
  },
  {
   "cell_type": "code",
   "execution_count": null,
   "metadata": {},
   "outputs": [],
   "source": [
    "# df.dropna(inplace=True)\n",
    "# df.to_csv(\"Investor_link_list.csv\")\n",
    "df = pd.read_csv(\"Investor_link_list.csv\")"
   ]
  },
  {
   "cell_type": "code",
   "execution_count": null,
   "metadata": {},
   "outputs": [],
   "source": [
    "\n",
    "# Assuming fetch_page function is defined elsewhere\n",
    "# Assuming df[\"Profile_link\"] contains the profile links\n",
    "\n",
    "for links in tqdm(df[\"Profile_link\"]):\n",
    "    # Skip if the link is NaN or invalid\n",
    "    if pd.isna(links):\n",
    "        continue\n",
    "    \n",
    "    profile_page = fetch_page(links)\n",
    "    \n",
    "    table_list = []\n",
    "\n",
    "    soup = BeautifulSoup(profile_page, \"html.parser\")\n",
    "    \n",
    "    try:\n",
    "        title = soup.find(\"h1\").text.strip()\n",
    "        table = soup.find(\"tbody\")\n",
    "        \n",
    "        if table is not None:\n",
    "            for table_rows in table.find_all(\"tr\"):\n",
    "                t_row_lst = []\n",
    "                link_element = table_rows.find(\"a\")\n",
    "                if link_element is not None:\n",
    "                    lnk = \"https://ticker.finology.in\" + link_element.get(\"href\")\n",
    "                else:\n",
    "                    lnk = np.nan\n",
    "                \n",
    "                sp = table_rows.find_all(\"td\")\n",
    "                if len(sp) > 2:\n",
    "                    tag = sp[2]\n",
    "                    t_row_lst.extend([sp[1].text if len(sp) > 1 else np.nan, lnk])\n",
    "                    t_row_lst.extend((tag.text.replace(\"\\n\", \"\").replace(\"\\r\", \"\").replace(\"Filing Due\", \"Filing_Due\")).split())\n",
    "                else:\n",
    "                    t_row_lst.extend([np.nan, lnk, np.nan, np.nan])\n",
    "                \n",
    "                table_list.append(t_row_lst)\n",
    "        else:\n",
    "            table_list.append([np.nan, np.nan, np.nan, np.nan])\n",
    "        \n",
    "    except AttributeError:\n",
    "        table_list.append([np.nan, np.nan, np.nan, np.nan])\n",
    "    \n",
    "    # Process the table_list as needed\n",
    "    # print(title, \"||\")\n"
   ]
  },
  {
   "cell_type": "code",
   "execution_count": null,
   "metadata": {},
   "outputs": [],
   "source": [
    "df_invest = pd.DataFrame(table_list,columns=[\"Comp_name\",\"Comp_link\",\"Q1\",\"Q2\",\"Q3\",\"Q4\",\"Q5\",\"Value\"])\n",
    "# df_invest = pd.DataFrame(table_list)\n",
    "df_invest\n",
    "\n",
    "df_invest.to_csv(\"SuperInvestorsHolding.csv\")"
   ]
  }
 ],
 "metadata": {
  "kernelspec": {
   "display_name": "base",
   "language": "python",
   "name": "python3"
  },
  "language_info": {
   "codemirror_mode": {
    "name": "ipython",
    "version": 3
   },
   "file_extension": ".py",
   "mimetype": "text/x-python",
   "name": "python",
   "nbconvert_exporter": "python",
   "pygments_lexer": "ipython3",
   "version": "3.11.7"
  }
 },
 "nbformat": 4,
 "nbformat_minor": 2
}
